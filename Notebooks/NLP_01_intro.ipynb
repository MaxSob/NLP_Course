{
 "cells": [
  {
   "cell_type": "markdown",
   "metadata": {},
   "source": [
    "# Natural Language Processing"
   ]
  },
  {
   "cell_type": "markdown",
   "metadata": {},
   "source": [
    "Natural Language Processing (NLP) is a joint area including linguistics, computer science and dat aprocessing to process and understand speech. It has a noumeros set of fields related to the area, involving a variety of disciplines. Including computer science, linguistics and machine learning. Some relevant tasks in NLP field include:\n",
    "* Natural language understanding\n",
    "* Question answering\n",
    "* Automatic speech recognition\n",
    "* Named entity recognition\n",
    "* Automatic reasoning\n",
    "* Information extraction\n",
    "* Text classification\n",
    "* Document retrieval"
   ]
  },
  {
   "cell_type": "markdown",
   "metadata": {},
   "source": [
    "## Jupyter lab and notebook\n",
    "Jupyter lab and jupyter notebook (https://jupyter.readthedocs.io/en/latest/install.html) have become lingua franca and a very powerful tool for data scientist and machine learning professionals. It offers a convenient way to make annotations in a file mixing the code execution in order to have the notes, processing and data in a simple unified file. It uses markdown language (https://www.markdownguide.org/basic-syntax/) to make annotations and embed text between scripts execution. You can execute a block using Ctrl + enter"
   ]
  },
  {
   "cell_type": "markdown",
   "metadata": {},
   "source": [
    "## Library import"
   ]
  },
  {
   "cell_type": "markdown",
   "metadata": {},
   "source": [
    "Natural language toolkit (nltk https://www.nltk.org/) is a powerful tool for natural language processing, includes tokenizers, parsers and classifiers. \n",
    "Spacy (https://spacy.io/) claims to be a industrial strength natural language processing for python. Among it's features: Non-destructive tokenization, Named entity recognition, Support for 52+ languages, 20 statistical models for 9 languages, Pre-trained word vectors, State-of-the-art speed, Easy deep learning integration, Part-of-speech tagging, Syntax-driven sentence segmentation, Built in visualizers for syntax and NER, Convenient string-to-hash mapping.\n",
    "Scikit learn (sklearn, https://scikit-learn.org/stable/) is a classical library for python which includes classification methods, data segmentation, corpus among others.\n",
    "Numpy (https://numpy.org/) is a fundamental package for scientific computing with Python. It contains among other things: a powerful N-dimensional array object, sophisticated (broadcasting) functions, tools for integrating C/C++ and Fortran code and useful linear algebra, Fourier transform, and random number capabilities."
   ]
  },
  {
   "cell_type": "code",
   "execution_count": 1,
   "metadata": {},
   "outputs": [],
   "source": [
    "import nltk\n",
    "import spacy\n",
    "import sklearn\n",
    "import numpy"
   ]
  },
  {
   "cell_type": "markdown",
   "metadata": {},
   "source": [
    "## Notebook command execution\n",
    "You can execute commands in the jupyter notebook using ! symbol."
   ]
  },
  {
   "cell_type": "code",
   "execution_count": 2,
   "metadata": {},
   "outputs": [
    {
     "name": "stdout",
     "output_type": "stream",
     "text": [
      "NLP_01_intro.ipynb\t    NLP_03_lexical_analysis.ipynb\n",
      "NLP_02_preprocessing.ipynb  Teacher\n"
     ]
    }
   ],
   "source": [
    "!ls"
   ]
  },
  {
   "cell_type": "markdown",
   "metadata": {},
   "source": [
    "If you don't have some library you can install it using pip3"
   ]
  },
  {
   "cell_type": "code",
   "execution_count": 24,
   "metadata": {},
   "outputs": [
    {
     "name": "stdout",
     "output_type": "stream",
     "text": [
      "Requirement already satisfied: sklearn in /home/mcampos/anaconda3/lib/python3.7/site-packages (0.0)\n",
      "Requirement already satisfied: scikit-learn in /home/mcampos/anaconda3/lib/python3.7/site-packages (from sklearn) (0.21.2)\n",
      "Requirement already satisfied: joblib>=0.11 in /home/mcampos/anaconda3/lib/python3.7/site-packages (from scikit-learn->sklearn) (0.13.2)\n",
      "Requirement already satisfied: scipy>=0.17.0 in /home/mcampos/anaconda3/lib/python3.7/site-packages (from scikit-learn->sklearn) (1.2.1)\n",
      "Requirement already satisfied: numpy>=1.11.0 in /home/mcampos/anaconda3/lib/python3.7/site-packages (from scikit-learn->sklearn) (1.16.4)\n"
     ]
    }
   ],
   "source": [
    "!pip3 install sklearn"
   ]
  },
  {
   "cell_type": "markdown",
   "metadata": {},
   "source": [
    "## Basic strings functions in python\n",
    "Python has a lot of useful functions to work with strings (https://docs.python.org/3.7/library/string.html)."
   ]
  },
  {
   "cell_type": "code",
   "execution_count": 3,
   "metadata": {},
   "outputs": [
    {
     "data": {
      "text/plain": [
       "'I am, the string number one I am, the string number two'"
      ]
     },
     "execution_count": 3,
     "metadata": {},
     "output_type": "execute_result"
    }
   ],
   "source": [
    "s1 = \"I am, the string number one\"\n",
    "s2 = \"I am, the string number two\"\n",
    "\n",
    "#Concatenation\n",
    "s1 + \" \" + s2"
   ]
  },
  {
   "cell_type": "code",
   "execution_count": 4,
   "metadata": {},
   "outputs": [
    {
     "name": "stdout",
     "output_type": "stream",
     "text": [
      "['I', 'am,', 'the', 'string', 'number', 'one']\n",
      "['I am', ' the string number one']\n",
      "I am, the string number one\n"
     ]
    }
   ],
   "source": [
    "#Separation\n",
    "print(s1.split(\" \"))\n",
    "print(s1.split(\",\"))\n",
    "print(s1)"
   ]
  },
  {
   "cell_type": "code",
   "execution_count": 5,
   "metadata": {},
   "outputs": [
    {
     "name": "stdout",
     "output_type": "stream",
     "text": [
      "I AM, THE STRING NUMBER ONE\n",
      "i am, the string number two\n"
     ]
    }
   ],
   "source": [
    "#Casing\n",
    "print(s1.upper())\n",
    "print(s2.lower())"
   ]
  },
  {
   "cell_type": "code",
   "execution_count": 55,
   "metadata": {},
   "outputs": [
    {
     "name": "stdout",
     "output_type": "stream",
     "text": [
      "I am* the string number one\n"
     ]
    }
   ],
   "source": [
    "#Replacement\n",
    "print(s1.replace(\",\", \"*\"))"
   ]
  },
  {
   "cell_type": "code",
   "execution_count": 6,
   "metadata": {},
   "outputs": [
    {
     "name": "stdout",
     "output_type": "stream",
     "text": [
      "I\n",
      " \n",
      "a\n",
      "m\n",
      ",\n",
      " \n",
      "t\n",
      "h\n",
      "e\n",
      " \n",
      "s\n",
      "t\n",
      "r\n",
      "i\n",
      "n\n",
      "g\n",
      " \n",
      "n\n",
      "u\n",
      "m\n",
      "b\n",
      "e\n",
      "r\n",
      " \n",
      "o\n",
      "n\n",
      "e\n"
     ]
    }
   ],
   "source": [
    "#Character processing\n",
    "for c in s1:\n",
    "    print(c)"
   ]
  },
  {
   "cell_type": "code",
   "execution_count": 7,
   "metadata": {},
   "outputs": [
    {
     "name": "stdout",
     "output_type": "stream",
     "text": [
      "I\n",
      "am,\n",
      "the\n",
      "string\n",
      "number\n",
      "one\n"
     ]
    }
   ],
   "source": [
    "#Word processing\n",
    "for w in s1.split(\" \"):\n",
    "    print(w)"
   ]
  },
  {
   "cell_type": "code",
   "execution_count": 8,
   "metadata": {},
   "outputs": [
    {
     "data": {
      "text/plain": [
       "27"
      ]
     },
     "execution_count": 8,
     "metadata": {},
     "output_type": "execute_result"
    }
   ],
   "source": [
    "#Length\n",
    "len(s1)"
   ]
  },
  {
   "cell_type": "code",
   "execution_count": 9,
   "metadata": {},
   "outputs": [
    {
     "data": {
      "text/plain": [
       "'I am, the '"
      ]
     },
     "execution_count": 9,
     "metadata": {},
     "output_type": "execute_result"
    }
   ],
   "source": [
    "#Indexing\n",
    "s1[0:10]"
   ]
  },
  {
   "cell_type": "code",
   "execution_count": 10,
   "metadata": {},
   "outputs": [
    {
     "data": {
      "text/plain": [
       "' am, the string number '"
      ]
     },
     "execution_count": 10,
     "metadata": {},
     "output_type": "execute_result"
    }
   ],
   "source": [
    "s1[1:24]"
   ]
  },
  {
   "cell_type": "code",
   "execution_count": 11,
   "metadata": {},
   "outputs": [
    {
     "name": "stdout",
     "output_type": "stream",
     "text": [
      "am, the string number one\n",
      "m, the string number one\n",
      ", the string number one\n",
      " the string number one\n",
      "the string number one\n",
      "he string number one\n",
      "e string number one\n",
      " string number one\n",
      "string number one\n",
      "tring number one\n",
      "ring number one\n",
      "ing number one\n",
      "ng number one\n",
      "g number one\n",
      " number one\n",
      "number one\n",
      "umber one\n",
      "mber one\n",
      "ber one\n",
      "er one\n",
      "r one\n",
      " one\n",
      "one\n",
      "ne\n",
      "e\n"
     ]
    }
   ],
   "source": [
    "for i in range(2, len(s1)):\n",
    "    print(s1[i:])"
   ]
  },
  {
   "cell_type": "markdown",
   "metadata": {},
   "source": [
    "## Exercises\n",
    "* Make a function which inverts a string\n",
    "* Make a function which check if a string is a palindrome\n",
    "* Make a function which recieves a list of strings and return the list of all the different words in the string list"
   ]
  },
  {
   "cell_type": "code",
   "execution_count": 5,
   "metadata": {},
   "outputs": [],
   "source": [
    "#invertString = lambda s: s[::-1]\n",
    "def invertString(s):\n",
    "    #Your code here\n",
    "    return s_copy\n",
    "\n",
    "def isPalindrome(s):\n",
    "    #Your code here\n",
    "    return True\n",
    "\n",
    "def getWords(strings):\n",
    "    words = []\n",
    "    #Your code here\n",
    "    return words"
   ]
  },
  {
   "cell_type": "code",
   "execution_count": 6,
   "metadata": {},
   "outputs": [
    {
     "name": "stdout",
     "output_type": "stream",
     "text": [
      "anit al aval atina\n",
      "sotaG\n",
      "osodilaip se ocitsíligarfilaC\n",
      "True\n",
      "True\n",
      "True\n"
     ]
    }
   ],
   "source": [
    "#Tests\n",
    "def testFunction(tests, function):\n",
    "    for t in tests:\n",
    "        result = function(t[0])\n",
    "        if result != t[1]:\n",
    "            print(\"Failed at: \" + str(t[0]))\n",
    "            print(\"Expected: \" +  str(t[1]))\n",
    "            print(\"Got: \" + str(result))\n",
    "            return False\n",
    "    return True\n",
    "\n",
    "tests_1 = [\n",
    "    (\"anita lava la tina\", \"anit al aval atina\"),\n",
    "    (\"Gatos\", \"sotaG\"), \n",
    "    (\"Califragilístico es pialidoso\", \"osodilaip se ocitsíligarfilaC\")]\n",
    "\n",
    "tests_2 = [\n",
    "    (\"anita lava la tina\", True),\n",
    "    (\"De noche todos los gatos son pardos\", False), \n",
    "    (\"Yo voy\", True),\n",
    "    (\"Dabale arroz a la zorra el abad\", True)]\n",
    "\n",
    "tests_3 = [\n",
    "    ([\"anita lava la tina\", \n",
    "      \"Anita y Califragilístico son pialidosos\"], \n",
    "     [\"anita\", \"lava\", \"la\", \"tina\", \"y\", \"califragilístico\", \"son\", \"pialidosos\"])]\n",
    "\n",
    "print(testFunction(tests_1, invertString))\n",
    "print(testFunction(tests_2, isPalindrome))\n",
    "print(testFunction(tests_3, getWords))"
   ]
  }
 ],
 "metadata": {
  "kernelspec": {
   "display_name": "Python 3",
   "language": "python",
   "name": "python3"
  },
  "language_info": {
   "codemirror_mode": {
    "name": "ipython",
    "version": 3
   },
   "file_extension": ".py",
   "mimetype": "text/x-python",
   "name": "python",
   "nbconvert_exporter": "python",
   "pygments_lexer": "ipython3",
   "version": "3.7.3"
  }
 },
 "nbformat": 4,
 "nbformat_minor": 4
}
